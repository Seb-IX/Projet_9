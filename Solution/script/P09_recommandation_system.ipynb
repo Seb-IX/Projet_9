{
 "cells": [
  {
   "cell_type": "markdown",
   "id": "49955bf1",
   "metadata": {},
   "source": [
    "# Chargement et préparation des données \n",
    "\n",
    "2 type de système de recommandation :\n",
    "- content-based \n",
    "- collaboratif-filtering\n"
   ]
  },
  {
   "cell_type": "code",
   "execution_count": 1,
   "id": "81ec2c4b",
   "metadata": {},
   "outputs": [],
   "source": [
    "from utils import DataClicks\n",
    "import pandas as pd\n",
    "import numpy as np"
   ]
  },
  {
   "cell_type": "code",
   "execution_count": 2,
   "id": "7343530e",
   "metadata": {},
   "outputs": [
    {
     "name": "stdout",
     "output_type": "stream",
     "text": [
      "CPU times: user 40.4 s, sys: 36.5 s, total: 1min 16s\n",
      "Wall time: 1min 25s\n"
     ]
    }
   ],
   "source": [
    "%%time\n",
    "interaction_df, metadata_df, article_matrice_df = DataClicks(\n",
    "                                                        interaction_path_dir=\"./data/clicks/\",\n",
    "                                                        metadata_path=\"./data/articles_metadata.csv\",\n",
    "                                                        article_embedding_path=\"./data/articles_embeddings.pickle\").load_data()"
   ]
  },
  {
   "cell_type": "code",
   "execution_count": 3,
   "id": "b3f1999d",
   "metadata": {},
   "outputs": [
    {
     "data": {
      "text/html": [
       "<div>\n",
       "<style scoped>\n",
       "    .dataframe tbody tr th:only-of-type {\n",
       "        vertical-align: middle;\n",
       "    }\n",
       "\n",
       "    .dataframe tbody tr th {\n",
       "        vertical-align: top;\n",
       "    }\n",
       "\n",
       "    .dataframe thead th {\n",
       "        text-align: right;\n",
       "    }\n",
       "</style>\n",
       "<table border=\"1\" class=\"dataframe\">\n",
       "  <thead>\n",
       "    <tr style=\"text-align: right;\">\n",
       "      <th></th>\n",
       "      <th>user_id</th>\n",
       "      <th>session_id</th>\n",
       "      <th>session_start</th>\n",
       "      <th>session_size</th>\n",
       "      <th>click_article_id</th>\n",
       "      <th>click_timestamp</th>\n",
       "      <th>click_environment</th>\n",
       "      <th>click_deviceGroup</th>\n",
       "      <th>click_os</th>\n",
       "      <th>click_country</th>\n",
       "      <th>click_region</th>\n",
       "      <th>click_referrer_type</th>\n",
       "    </tr>\n",
       "  </thead>\n",
       "  <tbody>\n",
       "    <tr>\n",
       "      <th>0</th>\n",
       "      <td>0</td>\n",
       "      <td>1506825423271737</td>\n",
       "      <td>2017-10-01 02:37:03</td>\n",
       "      <td>2</td>\n",
       "      <td>157541</td>\n",
       "      <td>2017-10-01 03:00:28.020</td>\n",
       "      <td>4</td>\n",
       "      <td>3</td>\n",
       "      <td>20</td>\n",
       "      <td>1</td>\n",
       "      <td>20</td>\n",
       "      <td>2</td>\n",
       "    </tr>\n",
       "    <tr>\n",
       "      <th>1</th>\n",
       "      <td>0</td>\n",
       "      <td>1506825423271737</td>\n",
       "      <td>2017-10-01 02:37:03</td>\n",
       "      <td>2</td>\n",
       "      <td>68866</td>\n",
       "      <td>2017-10-01 03:00:58.020</td>\n",
       "      <td>4</td>\n",
       "      <td>3</td>\n",
       "      <td>20</td>\n",
       "      <td>1</td>\n",
       "      <td>20</td>\n",
       "      <td>2</td>\n",
       "    </tr>\n",
       "    <tr>\n",
       "      <th>2</th>\n",
       "      <td>1</td>\n",
       "      <td>1506825426267738</td>\n",
       "      <td>2017-10-01 02:37:06</td>\n",
       "      <td>2</td>\n",
       "      <td>235840</td>\n",
       "      <td>2017-10-01 03:03:37.951</td>\n",
       "      <td>4</td>\n",
       "      <td>1</td>\n",
       "      <td>17</td>\n",
       "      <td>1</td>\n",
       "      <td>16</td>\n",
       "      <td>2</td>\n",
       "    </tr>\n",
       "    <tr>\n",
       "      <th>3</th>\n",
       "      <td>1</td>\n",
       "      <td>1506825426267738</td>\n",
       "      <td>2017-10-01 02:37:06</td>\n",
       "      <td>2</td>\n",
       "      <td>96663</td>\n",
       "      <td>2017-10-01 03:04:07.951</td>\n",
       "      <td>4</td>\n",
       "      <td>1</td>\n",
       "      <td>17</td>\n",
       "      <td>1</td>\n",
       "      <td>16</td>\n",
       "      <td>2</td>\n",
       "    </tr>\n",
       "    <tr>\n",
       "      <th>4</th>\n",
       "      <td>2</td>\n",
       "      <td>1506825435299739</td>\n",
       "      <td>2017-10-01 02:37:15</td>\n",
       "      <td>2</td>\n",
       "      <td>119592</td>\n",
       "      <td>2017-10-01 03:04:50.575</td>\n",
       "      <td>4</td>\n",
       "      <td>1</td>\n",
       "      <td>17</td>\n",
       "      <td>1</td>\n",
       "      <td>24</td>\n",
       "      <td>2</td>\n",
       "    </tr>\n",
       "  </tbody>\n",
       "</table>\n",
       "</div>"
      ],
      "text/plain": [
       "  user_id        session_id       session_start session_size click_article_id  \\\n",
       "0       0  1506825423271737 2017-10-01 02:37:03            2           157541   \n",
       "1       0  1506825423271737 2017-10-01 02:37:03            2            68866   \n",
       "2       1  1506825426267738 2017-10-01 02:37:06            2           235840   \n",
       "3       1  1506825426267738 2017-10-01 02:37:06            2            96663   \n",
       "4       2  1506825435299739 2017-10-01 02:37:15            2           119592   \n",
       "\n",
       "          click_timestamp click_environment click_deviceGroup click_os  \\\n",
       "0 2017-10-01 03:00:28.020                 4                 3       20   \n",
       "1 2017-10-01 03:00:58.020                 4                 3       20   \n",
       "2 2017-10-01 03:03:37.951                 4                 1       17   \n",
       "3 2017-10-01 03:04:07.951                 4                 1       17   \n",
       "4 2017-10-01 03:04:50.575                 4                 1       17   \n",
       "\n",
       "  click_country click_region click_referrer_type  \n",
       "0             1           20                   2  \n",
       "1             1           20                   2  \n",
       "2             1           16                   2  \n",
       "3             1           16                   2  \n",
       "4             1           24                   2  "
      ]
     },
     "execution_count": 3,
     "metadata": {},
     "output_type": "execute_result"
    }
   ],
   "source": [
    "interaction_df.head()"
   ]
  },
  {
   "cell_type": "markdown",
   "id": "67de691a",
   "metadata": {},
   "source": [
    "### Création d'un rating implicite pour la modélisation collaboratif filtering"
   ]
  },
  {
   "cell_type": "code",
   "execution_count": 11,
   "id": "44136398",
   "metadata": {},
   "outputs": [
    {
     "data": {
      "text/html": [
       "<div>\n",
       "<style scoped>\n",
       "    .dataframe tbody tr th:only-of-type {\n",
       "        vertical-align: middle;\n",
       "    }\n",
       "\n",
       "    .dataframe tbody tr th {\n",
       "        vertical-align: top;\n",
       "    }\n",
       "\n",
       "    .dataframe thead th {\n",
       "        text-align: right;\n",
       "    }\n",
       "</style>\n",
       "<table border=\"1\" class=\"dataframe\">\n",
       "  <thead>\n",
       "    <tr style=\"text-align: right;\">\n",
       "      <th></th>\n",
       "      <th>user_id</th>\n",
       "      <th>article_id</th>\n",
       "      <th>category_id</th>\n",
       "    </tr>\n",
       "  </thead>\n",
       "  <tbody>\n",
       "    <tr>\n",
       "      <th>0</th>\n",
       "      <td>0</td>\n",
       "      <td>157541</td>\n",
       "      <td>281</td>\n",
       "    </tr>\n",
       "    <tr>\n",
       "      <th>1</th>\n",
       "      <td>20</td>\n",
       "      <td>157541</td>\n",
       "      <td>281</td>\n",
       "    </tr>\n",
       "    <tr>\n",
       "      <th>2</th>\n",
       "      <td>44</td>\n",
       "      <td>157541</td>\n",
       "      <td>281</td>\n",
       "    </tr>\n",
       "    <tr>\n",
       "      <th>3</th>\n",
       "      <td>45</td>\n",
       "      <td>157541</td>\n",
       "      <td>281</td>\n",
       "    </tr>\n",
       "    <tr>\n",
       "      <th>4</th>\n",
       "      <td>76</td>\n",
       "      <td>157541</td>\n",
       "      <td>281</td>\n",
       "    </tr>\n",
       "    <tr>\n",
       "      <th>...</th>\n",
       "      <td>...</td>\n",
       "      <td>...</td>\n",
       "      <td>...</td>\n",
       "    </tr>\n",
       "    <tr>\n",
       "      <th>2988176</th>\n",
       "      <td>195186</td>\n",
       "      <td>2221</td>\n",
       "      <td>1</td>\n",
       "    </tr>\n",
       "    <tr>\n",
       "      <th>2988177</th>\n",
       "      <td>75658</td>\n",
       "      <td>271117</td>\n",
       "      <td>399</td>\n",
       "    </tr>\n",
       "    <tr>\n",
       "      <th>2988178</th>\n",
       "      <td>217129</td>\n",
       "      <td>20204</td>\n",
       "      <td>9</td>\n",
       "    </tr>\n",
       "    <tr>\n",
       "      <th>2988179</th>\n",
       "      <td>217129</td>\n",
       "      <td>70196</td>\n",
       "      <td>136</td>\n",
       "    </tr>\n",
       "    <tr>\n",
       "      <th>2988180</th>\n",
       "      <td>51099</td>\n",
       "      <td>98243</td>\n",
       "      <td>220</td>\n",
       "    </tr>\n",
       "  </tbody>\n",
       "</table>\n",
       "<p>2988181 rows × 3 columns</p>\n",
       "</div>"
      ],
      "text/plain": [
       "        user_id  article_id  category_id\n",
       "0             0      157541          281\n",
       "1            20      157541          281\n",
       "2            44      157541          281\n",
       "3            45      157541          281\n",
       "4            76      157541          281\n",
       "...         ...         ...          ...\n",
       "2988176  195186        2221            1\n",
       "2988177   75658      271117          399\n",
       "2988178  217129       20204            9\n",
       "2988179  217129       70196          136\n",
       "2988180   51099       98243          220\n",
       "\n",
       "[2988181 rows x 3 columns]"
      ]
     },
     "execution_count": 11,
     "metadata": {},
     "output_type": "execute_result"
    }
   ],
   "source": [
    "df = interaction_df.merge(metadata_df,left_on=\"click_article_id\",right_on=\"article_id\")\n",
    "# On retire les valeurs inutile\n",
    "df = df[['user_id', 'article_id', 'category_id']]\n",
    "df"
   ]
  },
  {
   "cell_type": "code",
   "execution_count": 12,
   "id": "4dcb9c5b",
   "metadata": {},
   "outputs": [
    {
     "data": {
      "text/html": [
       "<div>\n",
       "<style scoped>\n",
       "    .dataframe tbody tr th:only-of-type {\n",
       "        vertical-align: middle;\n",
       "    }\n",
       "\n",
       "    .dataframe tbody tr th {\n",
       "        vertical-align: top;\n",
       "    }\n",
       "\n",
       "    .dataframe thead th {\n",
       "        text-align: right;\n",
       "    }\n",
       "</style>\n",
       "<table border=\"1\" class=\"dataframe\">\n",
       "  <thead>\n",
       "    <tr style=\"text-align: right;\">\n",
       "      <th></th>\n",
       "      <th>user_id</th>\n",
       "      <th>category_id</th>\n",
       "      <th>rating</th>\n",
       "    </tr>\n",
       "  </thead>\n",
       "  <tbody>\n",
       "    <tr>\n",
       "      <th>0</th>\n",
       "      <td>0</td>\n",
       "      <td>136</td>\n",
       "      <td>1</td>\n",
       "    </tr>\n",
       "    <tr>\n",
       "      <th>1</th>\n",
       "      <td>0</td>\n",
       "      <td>186</td>\n",
       "      <td>2</td>\n",
       "    </tr>\n",
       "    <tr>\n",
       "      <th>2</th>\n",
       "      <td>0</td>\n",
       "      <td>209</td>\n",
       "      <td>1</td>\n",
       "    </tr>\n",
       "    <tr>\n",
       "      <th>3</th>\n",
       "      <td>0</td>\n",
       "      <td>281</td>\n",
       "      <td>2</td>\n",
       "    </tr>\n",
       "    <tr>\n",
       "      <th>4</th>\n",
       "      <td>0</td>\n",
       "      <td>375</td>\n",
       "      <td>1</td>\n",
       "    </tr>\n",
       "  </tbody>\n",
       "</table>\n",
       "</div>"
      ],
      "text/plain": [
       "   user_id  category_id  rating\n",
       "0        0          136       1\n",
       "1        0          186       2\n",
       "2        0          209       1\n",
       "3        0          281       2\n",
       "4        0          375       1"
      ]
     },
     "execution_count": 12,
     "metadata": {},
     "output_type": "execute_result"
    }
   ],
   "source": [
    "rating  = df.groupby([\"user_id\",\"category_id\"]).size()\n",
    "rating = rating.to_frame().reset_index()\n",
    "rating.rename(columns={0:\"rating\"},inplace=True)\n",
    "rating.head()"
   ]
  },
  {
   "cell_type": "code",
   "execution_count": 49,
   "id": "bed7f620",
   "metadata": {},
   "outputs": [],
   "source": [
    "all_clicks_by_user = dict(rating.groupby(by=\"user_id\")[\"rating\"].sum())"
   ]
  },
  {
   "cell_type": "code",
   "execution_count": 56,
   "id": "a75dd05f",
   "metadata": {},
   "outputs": [],
   "source": [
    "rating[\"all_click_user\"] = rating[\"user_id\"].map(all_clicks_by_user)"
   ]
  },
  {
   "cell_type": "code",
   "execution_count": 61,
   "id": "b6409fae",
   "metadata": {},
   "outputs": [],
   "source": [
    "rating[\"score\"] = (rating[\"rating\"] / rating[\"all_click_user\"])*10"
   ]
  },
  {
   "cell_type": "code",
   "execution_count": 62,
   "id": "c3b215e8",
   "metadata": {},
   "outputs": [
    {
     "data": {
      "text/plain": [
       "10.000000    100102\n",
       "5.000000      36897\n",
       "3.333333      22833\n",
       "2.500000      15845\n",
       "2.000000      12480\n",
       "              ...  \n",
       "2.873563          1\n",
       "5.934066          1\n",
       "1.012146          1\n",
       "2.988506          1\n",
       "1.024096          1\n",
       "Name: score, Length: 3420, dtype: int64"
      ]
     },
     "execution_count": 62,
     "metadata": {},
     "output_type": "execute_result"
    }
   ],
   "source": [
    "rating[\"score\"].value_counts()"
   ]
  },
  {
   "cell_type": "markdown",
   "id": "727eefc4",
   "metadata": {},
   "source": [
    "on retire les interaction si l'utilisateur n'a regarder que 1 seul fois la catégorie (faible impact sur cette catégorie)"
   ]
  },
  {
   "cell_type": "code",
   "execution_count": 63,
   "id": "f650d2bf",
   "metadata": {},
   "outputs": [
    {
     "data": {
      "text/html": [
       "<div>\n",
       "<style scoped>\n",
       "    .dataframe tbody tr th:only-of-type {\n",
       "        vertical-align: middle;\n",
       "    }\n",
       "\n",
       "    .dataframe tbody tr th {\n",
       "        vertical-align: top;\n",
       "    }\n",
       "\n",
       "    .dataframe thead th {\n",
       "        text-align: right;\n",
       "    }\n",
       "</style>\n",
       "<table border=\"1\" class=\"dataframe\">\n",
       "  <thead>\n",
       "    <tr style=\"text-align: right;\">\n",
       "      <th></th>\n",
       "      <th>count</th>\n",
       "      <th>mean</th>\n",
       "      <th>std</th>\n",
       "      <th>min</th>\n",
       "      <th>25%</th>\n",
       "      <th>50%</th>\n",
       "      <th>75%</th>\n",
       "      <th>max</th>\n",
       "    </tr>\n",
       "  </thead>\n",
       "  <tbody>\n",
       "    <tr>\n",
       "      <th>user_id</th>\n",
       "      <td>503616.0</td>\n",
       "      <td>100591.298803</td>\n",
       "      <td>78296.001115</td>\n",
       "      <td>0.000000</td>\n",
       "      <td>37985.000000</td>\n",
       "      <td>80436.5</td>\n",
       "      <td>150442.75</td>\n",
       "      <td>322887.0</td>\n",
       "    </tr>\n",
       "    <tr>\n",
       "      <th>category_id</th>\n",
       "      <td>503616.0</td>\n",
       "      <td>313.580869</td>\n",
       "      <td>105.291249</td>\n",
       "      <td>1.000000</td>\n",
       "      <td>252.000000</td>\n",
       "      <td>327.0</td>\n",
       "      <td>409.00</td>\n",
       "      <td>458.0</td>\n",
       "    </tr>\n",
       "    <tr>\n",
       "      <th>rating</th>\n",
       "      <td>503616.0</td>\n",
       "      <td>3.195877</td>\n",
       "      <td>3.204592</td>\n",
       "      <td>2.000000</td>\n",
       "      <td>2.000000</td>\n",
       "      <td>2.0</td>\n",
       "      <td>3.00</td>\n",
       "      <td>535.0</td>\n",
       "    </tr>\n",
       "    <tr>\n",
       "      <th>all_click_user</th>\n",
       "      <td>503616.0</td>\n",
       "      <td>24.445784</td>\n",
       "      <td>43.774245</td>\n",
       "      <td>2.000000</td>\n",
       "      <td>5.000000</td>\n",
       "      <td>12.0</td>\n",
       "      <td>28.00</td>\n",
       "      <td>1210.0</td>\n",
       "    </tr>\n",
       "    <tr>\n",
       "      <th>score</th>\n",
       "      <td>503616.0</td>\n",
       "      <td>3.825752</td>\n",
       "      <td>3.461102</td>\n",
       "      <td>0.016529</td>\n",
       "      <td>1.052632</td>\n",
       "      <td>2.5</td>\n",
       "      <td>5.00</td>\n",
       "      <td>10.0</td>\n",
       "    </tr>\n",
       "  </tbody>\n",
       "</table>\n",
       "</div>"
      ],
      "text/plain": [
       "                   count           mean           std       min           25%  \\\n",
       "user_id         503616.0  100591.298803  78296.001115  0.000000  37985.000000   \n",
       "category_id     503616.0     313.580869    105.291249  1.000000    252.000000   \n",
       "rating          503616.0       3.195877      3.204592  2.000000      2.000000   \n",
       "all_click_user  503616.0      24.445784     43.774245  2.000000      5.000000   \n",
       "score           503616.0       3.825752      3.461102  0.016529      1.052632   \n",
       "\n",
       "                    50%        75%       max  \n",
       "user_id         80436.5  150442.75  322887.0  \n",
       "category_id       327.0     409.00     458.0  \n",
       "rating              2.0       3.00     535.0  \n",
       "all_click_user     12.0      28.00    1210.0  \n",
       "score               2.5       5.00      10.0  "
      ]
     },
     "execution_count": 63,
     "metadata": {},
     "output_type": "execute_result"
    }
   ],
   "source": [
    "rating.describe().T"
   ]
  },
  {
   "cell_type": "code",
   "execution_count": 28,
   "id": "a726ea4e",
   "metadata": {},
   "outputs": [],
   "source": [
    "from surprise import Reader, Dataset\n",
    "from surprise import KNNBasic\n",
    "from surprise import KNNWithMeans\n",
    "from surprise import KNNBaseline\n",
    "from surprise import KNNWithZScore\n",
    "from surprise.model_selection import GridSearchCV\n",
    "from surprise.model_selection import train_test_split\n",
    "from surprise import SVD, accuracy\n",
    "from surprise.model_selection import cross_validate\n",
    "\n",
    "from scipy.spatial import distance\n",
    "\n",
    "from random import randint\n"
   ]
  },
  {
   "cell_type": "code",
   "execution_count": 64,
   "id": "2b6ad0ac",
   "metadata": {},
   "outputs": [],
   "source": [
    "reader = Reader()\n",
    "data_surprise = Dataset.load_from_df(rating[['user_id', 'category_id', 'score']], reader)\n",
    "\n",
    "train_set, test_set = train_test_split(data_surprise, test_size=0.2)"
   ]
  },
  {
   "cell_type": "code",
   "execution_count": 23,
   "id": "43006595",
   "metadata": {},
   "outputs": [],
   "source": [
    "from sklearn.model_selection import train_test_split\n",
    "\n",
    "train, cros_val = train_test_split(df, test_size = 0.2)"
   ]
  },
  {
   "cell_type": "markdown",
   "id": "23a026de",
   "metadata": {},
   "source": [
    "## Content-based filtering model"
   ]
  },
  {
   "cell_type": "code",
   "execution_count": 37,
   "id": "45e53fd2",
   "metadata": {},
   "outputs": [],
   "source": [
    "def recommandationArticle(embedding, userId, n=5):\n",
    "    \n",
    "    # on récupére tout les article lu par l'utilisateurs\n",
    "    var = interaction_df.loc[interaction_df['user_id']==userId]['click_article_id'].tolist()\n",
    "    \n",
    "    # on choisi un article simillaire au article lu par l'utilisateurs\n",
    "    value = randint(0, len(var))\n",
    "    \n",
    "    # On supprime les article déjà lu par l'utilisateur\n",
    "    for i in range(0, len(var)):\n",
    "        if i != value:\n",
    "            embedding = np.delete(embedding, [i], 0)\n",
    "    \n",
    "    arr = []\n",
    "    \n",
    "    # on supprime l'article selectionné\n",
    "    f = np.delete(embedding, [value], 0)\n",
    "    \n",
    "    # on récupére les n articles les plus similaire à celui selectionné\n",
    "    for i in range(0, n):\n",
    "        # On récupére la matrice de distance\n",
    "        distances = distance.cdist([embedding[value]], f, \"cosine\")[0]\n",
    "        min_index = np.argmin(distances)\n",
    "        f = np.delete(f, [min_index], 0)\n",
    "        result = np.where(e==f[min_index])\n",
    "        arr.append(result[0][0])\n",
    "        \n",
    "    return arr\n",
    "\n"
   ]
  },
  {
   "cell_type": "code",
   "execution_count": 39,
   "id": "1b9581a9",
   "metadata": {},
   "outputs": [
    {
     "data": {
      "text/plain": [
       "[14, 1729, 53901, 796, 784]"
      ]
     },
     "execution_count": 39,
     "metadata": {},
     "output_type": "execute_result"
    }
   ],
   "source": [
    "recommandationArticle(article_matrice_df, 0)"
   ]
  },
  {
   "cell_type": "markdown",
   "id": "48ef7f22",
   "metadata": {},
   "source": [
    "## Collaborative Filtering model"
   ]
  },
  {
   "cell_type": "code",
   "execution_count": null,
   "id": "3375c47e",
   "metadata": {},
   "outputs": [],
   "source": []
  },
  {
   "cell_type": "code",
   "execution_count": null,
   "id": "60bc9008",
   "metadata": {},
   "outputs": [],
   "source": []
  },
  {
   "cell_type": "code",
   "execution_count": null,
   "id": "251265b1",
   "metadata": {},
   "outputs": [],
   "source": []
  },
  {
   "cell_type": "code",
   "execution_count": null,
   "id": "1fc4acdc",
   "metadata": {},
   "outputs": [],
   "source": []
  },
  {
   "cell_type": "code",
   "execution_count": null,
   "id": "cd07ccf6",
   "metadata": {},
   "outputs": [],
   "source": []
  }
 ],
 "metadata": {
  "kernelspec": {
   "display_name": "Python 3",
   "language": "python",
   "name": "python3"
  },
  "language_info": {
   "codemirror_mode": {
    "name": "ipython",
    "version": 3
   },
   "file_extension": ".py",
   "mimetype": "text/x-python",
   "name": "python",
   "nbconvert_exporter": "python",
   "pygments_lexer": "ipython3",
   "version": "3.6.9"
  }
 },
 "nbformat": 4,
 "nbformat_minor": 5
}
