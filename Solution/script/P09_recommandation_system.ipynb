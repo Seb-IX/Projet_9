{
 "cells": [
  {
   "cell_type": "markdown",
   "id": "52752585",
   "metadata": {},
   "source": [
    "# Modélisation du système de recommandation\n",
    "\n",
    "\n",
    "<img src=\"./img/logo.png\" alt=\"logo\">\n",
    "\n",
    "2 type de système de recommandation :\n",
    "\n",
    "- **content-based** : Cette méthode n'utilise que des informations sur la description et les attributs des articles que les utilisateurs ont précédemment consommés pour modéliser les préférences de l'utilisateur. En d'autres termes, ces algorithmes tentent de recommander des articles similaires à ceux qu'un utilisateur a aimés dans le passé (ou qu'il examine dans le présent). En particulier, divers articles candidats sont comparés aux articles précédemment évalués par l'utilisateur et les articles qui correspondent le mieux sont recommandés.\n",
    "\n",
    "\n",
    "\n",
    "- **collaboratif-filtering**: Cette méthode permet de faire des prédictions automatiques (filtrage) sur les intérêts d'un utilisateur en recueillant les préférences ou les informations sur les goûts de nombreux utilisateurs (collaboration). L'hypothèse sous-jacente de l'approche du filtrage collaboratif est que si une personne A a la même opinion qu'une personne B sur un ensemble d'éléments, A a plus de chances d'avoir l'opinion de B pour un élément donné que celle d'une personne choisie au hasard.\n",
    "\n"
   ]
  },
  {
   "cell_type": "code",
   "execution_count": 1,
   "id": "85043f0b",
   "metadata": {},
   "outputs": [
    {
     "name": "stdout",
     "output_type": "stream",
     "text": [
      "Python 3.6.9\r\n"
     ]
    }
   ],
   "source": [
    "!python --version"
   ]
  },
  {
   "cell_type": "code",
   "execution_count": 3,
   "id": "72740d56",
   "metadata": {},
   "outputs": [],
   "source": [
    "# !pip install implicit"
   ]
  },
  {
   "cell_type": "code",
   "execution_count": 4,
   "id": "5f97c95b",
   "metadata": {},
   "outputs": [],
   "source": [
    "from utils import DataClicks, ContentBasedRecommandation, EvaluateRS, ContentCollaboratifFiltering\n",
    "import pandas as pd\n",
    "import numpy as np\n",
    "import matplotlib.pyplot as plt\n",
    "style_plot = \"seaborn-darkgrid\"\n",
    "plt.style.use(style_plot)"
   ]
  },
  {
   "cell_type": "code",
   "execution_count": 5,
   "id": "9566b8a6",
   "metadata": {},
   "outputs": [
    {
     "name": "stdout",
     "output_type": "stream",
     "text": [
      "CPU times: user 40.8 s, sys: 33.9 s, total: 1min 14s\n",
      "Wall time: 1min 23s\n"
     ]
    }
   ],
   "source": [
    "%%time\n",
    "interaction_df, metadata_df, article_matrice_df, _ = DataClicks(\n",
    "                                                        interaction_path_dir=\"./data/clicks/\",\n",
    "                                                        metadata_path=\"./data/articles_metadata.csv\",\n",
    "                                                        article_embedding_path=\"./data/articles_embeddings.pickle\").load_data()"
   ]
  },
  {
   "cell_type": "markdown",
   "id": "af7a4d36",
   "metadata": {},
   "source": [
    "## Content-based model\n",
    "\n",
    "On calcul ici la distance cosine pour connaitre les article les plus proche pour proposer les articles les plus proche d'un article déjà lu par un utilisateur"
   ]
  },
  {
   "cell_type": "code",
   "execution_count": 6,
   "id": "fbac6731",
   "metadata": {},
   "outputs": [],
   "source": [
    "from scipy.spatial import distance\n",
    "\n",
    "from random import randint\n",
    "\n",
    "def recommandationArticle(embedding, userId, n=5):\n",
    "    embedding_temp = embedding\n",
    "    # on récupére tout les article lu par l'utilisateurs\n",
    "    var = interaction_df.loc[interaction_df['user_id']==userId]['click_article_id']\n",
    "    # on choisi un article simillaire au article lu par l'utilisateurs\n",
    "    if len(var) == 0:\n",
    "        # Si il n'a pas encore lu d'article on lui propose par rapport à l'article le plus populaire\n",
    "        value = interaction_df.groupby(\"click_article_id\")[\"click_article_id\"].size().sort_values(ascending=False).index[0]\n",
    "    else:\n",
    "        value = randint(0, len(var))\n",
    "    # On supprime les article déjà lu par l'utilisateur\n",
    "    for i in range(0, len(var)):\n",
    "        if i != value:\n",
    "            embedding_temp = np.delete(embedding_temp, [i], 0)\n",
    "    \n",
    "    arr = []\n",
    "    \n",
    "    # on supprime l'article selectionné\n",
    "    f = np.delete(embedding_temp, [value], 0)\n",
    "    \n",
    "    # on récupére les n articles les plus similaire à celui selectionné\n",
    "    for i in range(0, n):\n",
    "        # On récupére la matrice de distance\n",
    "        distances = distance.cdist([embedding_temp[value]], f, \"cosine\")[0]\n",
    "        min_index = np.argmin(distances)\n",
    "        f = np.delete(f, [min_index], 0)\n",
    "        result = np.where(embedding==f[min_index])\n",
    "        arr.append(result[0][0])\n",
    "        \n",
    "    return arr\n",
    "\n"
   ]
  },
  {
   "cell_type": "code",
   "execution_count": 7,
   "id": "01fbc6c4",
   "metadata": {},
   "outputs": [
    {
     "data": {
      "text/plain": [
       "[165, 1421, 802, 1080, 1342]"
      ]
     },
     "execution_count": 7,
     "metadata": {},
     "output_type": "execute_result"
    }
   ],
   "source": [
    "recommandationArticle(article_matrice_df, 0)"
   ]
  },
  {
   "cell_type": "code",
   "execution_count": 10,
   "id": "afb9ca47",
   "metadata": {},
   "outputs": [
    {
     "name": "stdout",
     "output_type": "stream",
     "text": [
      "CPU times: user 41.4 s, sys: 33.7 s, total: 1min 15s\n",
      "Wall time: 1min 18s\n"
     ]
    }
   ],
   "source": [
    "%%time\n",
    "model_based = ContentBasedRecommandation(path_emdedding=\"./data/articles_embeddings.pickle\",\n",
    "                                         path_user_interaction_directory=\"./data/clicks/\")"
   ]
  },
  {
   "cell_type": "code",
   "execution_count": 11,
   "id": "480cb927",
   "metadata": {},
   "outputs": [
    {
     "data": {
      "text/plain": [
       "[14, 1729, 53901, 796, 784]"
      ]
     },
     "execution_count": 11,
     "metadata": {},
     "output_type": "execute_result"
    }
   ],
   "source": [
    "model_based.recommend_(user_id=0,N=5)"
   ]
  },
  {
   "cell_type": "code",
   "execution_count": 20,
   "id": "bb53a1d4",
   "metadata": {},
   "outputs": [
    {
     "data": {
      "text/plain": [
       "['./data/based_model.joblib']"
      ]
     },
     "execution_count": 20,
     "metadata": {},
     "output_type": "execute_result"
    }
   ],
   "source": [
    "import joblib\n",
    "src_file_model = './data/based_model.joblib'\n",
    "\n",
    "joblib.dump(model_based, src_file_model)"
   ]
  },
  {
   "cell_type": "code",
   "execution_count": 4,
   "id": "ba2883d6",
   "metadata": {},
   "outputs": [],
   "source": [
    "import joblib\n",
    "model_based = joblib.load('./data/based_model.joblib')"
   ]
  },
  {
   "cell_type": "code",
   "execution_count": 5,
   "id": "9b6bc3f0",
   "metadata": {},
   "outputs": [
    {
     "data": {
      "text/plain": [
       "[1095, 1414, 2905, 38906, 663]"
      ]
     },
     "execution_count": 5,
     "metadata": {},
     "output_type": "execute_result"
    }
   ],
   "source": [
    "model_based.recommend_(user_id=0,N=5)"
   ]
  },
  {
   "cell_type": "markdown",
   "id": "a18c5ca5",
   "metadata": {},
   "source": [
    "# Collaboratif Filtering model\n",
    "\n",
    "Pour cette partie on utilisera une modélisation par factorisation de matrix (ALS, SVD...)\n",
    "\n",
    "### Préparation du modèle / Feature engeneering\n"
   ]
  },
  {
   "cell_type": "code",
   "execution_count": 9,
   "id": "68b3ed32",
   "metadata": {},
   "outputs": [],
   "source": [
    "df = interaction_df.merge(metadata_df,left_on=\"click_article_id\",right_on=\"article_id\")"
   ]
  },
  {
   "cell_type": "code",
   "execution_count": 10,
   "id": "ec9943ac",
   "metadata": {},
   "outputs": [
    {
     "name": "stdout",
     "output_type": "stream",
     "text": [
      "Il y a un total de 1052 article qui on était mise à jour ultérieurement à une interaction.\n"
     ]
    }
   ],
   "source": [
    "print(\"Il y a un total de\",df[df[\"created_at_ts\"] > df[\"click_timestamp\"]][\"article_id\"].nunique(),\"article qui on était mise à jour ultérieurement à une interaction.\")"
   ]
  },
  {
   "cell_type": "markdown",
   "id": "9c1e6f80",
   "metadata": {},
   "source": [
    "On sépare notre jeu de données en 2 partie pour la partie test et la partie entrainement.\n",
    "\n",
    "\n",
    "Le jeu de données est basé sur des interaction du **01/10/2017** aux **16/10/2017**, on prend donc les 10 premiers jours pour executer l'entrainement de notre modélisation et le reste pour l'évaluation."
   ]
  },
  {
   "cell_type": "code",
   "execution_count": 14,
   "id": "67ceeac2",
   "metadata": {},
   "outputs": [],
   "source": [
    "metadata_df[\"anciennete\"] = abs(metadata_df['created_at_ts'] - pd.to_datetime(\"2017-10-10 00:00:00\"))\n",
    "metadata_df['anciennete'] = metadata_df['anciennete'] / np.timedelta64(1, 'D')\n",
    "df_old = interaction_df.merge(metadata_df,left_on=\"click_article_id\",right_on=\"article_id\")\n",
    "df_old.drop(df_old[df_old[\"created_at_ts\"] > df_old[\"click_timestamp\"]].index,axis=0,inplace=True)\n",
    "\n",
    "# On reinitialise l'anciennete avec la dernière valeur que l'on gardera\n",
    "metadata_df[\"anciennete\"] = abs(metadata_df['created_at_ts'] - pd.to_datetime(\"2017-10-17 00:00:00\"))\n",
    "metadata_df['anciennete'] = metadata_df['anciennete'] / np.timedelta64(1, 'D')\n",
    "df_new = interaction_df.merge(metadata_df,left_on=\"click_article_id\",right_on=\"article_id\")\n",
    "df_new.drop(df_new[df_new[\"created_at_ts\"] > df_new[\"click_timestamp\"]].index,axis=0,inplace=True)"
   ]
  },
  {
   "cell_type": "code",
   "execution_count": 15,
   "id": "faa7f8fc",
   "metadata": {},
   "outputs": [
    {
     "name": "stdout",
     "output_type": "stream",
     "text": [
      "Nombre d'interaction les 10 premiers jours : 1764959\n",
      "Nombre d'interaction du 01/10 aux 16/10 inclue : 2964290\n"
     ]
    }
   ],
   "source": [
    "old_interaction = df_old[df_old[\"click_timestamp\"] <= pd.to_datetime(\"2017-10-10 00:00:00\")].copy()\n",
    "new_interaction = df_new[df_new[\"click_timestamp\"] <= pd.to_datetime(\"2017-10-17 00:00:00\")].copy()\n",
    "print(\"Nombre d\\'interaction les 10 premiers jours :\",len(old_interaction))\n",
    "print(\"Nombre d\\'interaction du 01/10 aux 16/10 inclue :\",len(new_interaction))"
   ]
  },
  {
   "cell_type": "code",
   "execution_count": 16,
   "id": "80a79006",
   "metadata": {},
   "outputs": [
    {
     "data": {
      "text/html": [
       "<div>\n",
       "<style scoped>\n",
       "    .dataframe tbody tr th:only-of-type {\n",
       "        vertical-align: middle;\n",
       "    }\n",
       "\n",
       "    .dataframe tbody tr th {\n",
       "        vertical-align: top;\n",
       "    }\n",
       "\n",
       "    .dataframe thead th {\n",
       "        text-align: right;\n",
       "    }\n",
       "</style>\n",
       "<table border=\"1\" class=\"dataframe\">\n",
       "  <thead>\n",
       "    <tr style=\"text-align: right;\">\n",
       "      <th></th>\n",
       "      <th>user_id</th>\n",
       "      <th>session_id</th>\n",
       "      <th>session_start</th>\n",
       "      <th>session_size</th>\n",
       "      <th>click_article_id</th>\n",
       "      <th>click_timestamp</th>\n",
       "      <th>click_environment</th>\n",
       "      <th>click_deviceGroup</th>\n",
       "      <th>click_os</th>\n",
       "      <th>click_country</th>\n",
       "      <th>click_region</th>\n",
       "      <th>click_referrer_type</th>\n",
       "      <th>article_id</th>\n",
       "      <th>category_id</th>\n",
       "      <th>created_at_ts</th>\n",
       "      <th>publisher_id</th>\n",
       "      <th>words_count</th>\n",
       "      <th>anciennete</th>\n",
       "    </tr>\n",
       "  </thead>\n",
       "  <tbody>\n",
       "    <tr>\n",
       "      <th>0</th>\n",
       "      <td>0</td>\n",
       "      <td>1506825423271737</td>\n",
       "      <td>2017-10-01 02:37:03</td>\n",
       "      <td>2</td>\n",
       "      <td>157541</td>\n",
       "      <td>2017-10-01 03:00:28.020</td>\n",
       "      <td>4</td>\n",
       "      <td>3</td>\n",
       "      <td>20</td>\n",
       "      <td>1</td>\n",
       "      <td>20</td>\n",
       "      <td>2</td>\n",
       "      <td>157541</td>\n",
       "      <td>281</td>\n",
       "      <td>2017-09-30 19:41:58</td>\n",
       "      <td>0</td>\n",
       "      <td>280</td>\n",
       "      <td>9.17919</td>\n",
       "    </tr>\n",
       "    <tr>\n",
       "      <th>1</th>\n",
       "      <td>20</td>\n",
       "      <td>1506825727279757</td>\n",
       "      <td>2017-10-01 02:42:07</td>\n",
       "      <td>2</td>\n",
       "      <td>157541</td>\n",
       "      <td>2017-10-01 05:42:28.634</td>\n",
       "      <td>4</td>\n",
       "      <td>1</td>\n",
       "      <td>17</td>\n",
       "      <td>1</td>\n",
       "      <td>9</td>\n",
       "      <td>1</td>\n",
       "      <td>157541</td>\n",
       "      <td>281</td>\n",
       "      <td>2017-09-30 19:41:58</td>\n",
       "      <td>0</td>\n",
       "      <td>280</td>\n",
       "      <td>9.17919</td>\n",
       "    </tr>\n",
       "    <tr>\n",
       "      <th>2</th>\n",
       "      <td>44</td>\n",
       "      <td>1506826139185781</td>\n",
       "      <td>2017-10-01 02:48:59</td>\n",
       "      <td>5</td>\n",
       "      <td>157541</td>\n",
       "      <td>2017-10-01 11:27:58.141</td>\n",
       "      <td>4</td>\n",
       "      <td>1</td>\n",
       "      <td>17</td>\n",
       "      <td>1</td>\n",
       "      <td>12</td>\n",
       "      <td>1</td>\n",
       "      <td>157541</td>\n",
       "      <td>281</td>\n",
       "      <td>2017-09-30 19:41:58</td>\n",
       "      <td>0</td>\n",
       "      <td>280</td>\n",
       "      <td>9.17919</td>\n",
       "    </tr>\n",
       "    <tr>\n",
       "      <th>3</th>\n",
       "      <td>45</td>\n",
       "      <td>1506826142324782</td>\n",
       "      <td>2017-10-01 02:49:02</td>\n",
       "      <td>2</td>\n",
       "      <td>157541</td>\n",
       "      <td>2017-10-01 03:08:29.970</td>\n",
       "      <td>4</td>\n",
       "      <td>1</td>\n",
       "      <td>17</td>\n",
       "      <td>1</td>\n",
       "      <td>17</td>\n",
       "      <td>1</td>\n",
       "      <td>157541</td>\n",
       "      <td>281</td>\n",
       "      <td>2017-09-30 19:41:58</td>\n",
       "      <td>0</td>\n",
       "      <td>280</td>\n",
       "      <td>9.17919</td>\n",
       "    </tr>\n",
       "    <tr>\n",
       "      <th>4</th>\n",
       "      <td>76</td>\n",
       "      <td>1506826463226813</td>\n",
       "      <td>2017-10-01 02:54:23</td>\n",
       "      <td>2</td>\n",
       "      <td>157541</td>\n",
       "      <td>2017-10-01 03:33:43.469</td>\n",
       "      <td>4</td>\n",
       "      <td>3</td>\n",
       "      <td>2</td>\n",
       "      <td>1</td>\n",
       "      <td>21</td>\n",
       "      <td>1</td>\n",
       "      <td>157541</td>\n",
       "      <td>281</td>\n",
       "      <td>2017-09-30 19:41:58</td>\n",
       "      <td>0</td>\n",
       "      <td>280</td>\n",
       "      <td>9.17919</td>\n",
       "    </tr>\n",
       "  </tbody>\n",
       "</table>\n",
       "</div>"
      ],
      "text/plain": [
       "  user_id        session_id       session_start session_size click_article_id  \\\n",
       "0       0  1506825423271737 2017-10-01 02:37:03            2           157541   \n",
       "1      20  1506825727279757 2017-10-01 02:42:07            2           157541   \n",
       "2      44  1506826139185781 2017-10-01 02:48:59            5           157541   \n",
       "3      45  1506826142324782 2017-10-01 02:49:02            2           157541   \n",
       "4      76  1506826463226813 2017-10-01 02:54:23            2           157541   \n",
       "\n",
       "          click_timestamp click_environment click_deviceGroup click_os  \\\n",
       "0 2017-10-01 03:00:28.020                 4                 3       20   \n",
       "1 2017-10-01 05:42:28.634                 4                 1       17   \n",
       "2 2017-10-01 11:27:58.141                 4                 1       17   \n",
       "3 2017-10-01 03:08:29.970                 4                 1       17   \n",
       "4 2017-10-01 03:33:43.469                 4                 3        2   \n",
       "\n",
       "  click_country click_region click_referrer_type  article_id  category_id  \\\n",
       "0             1           20                   2      157541          281   \n",
       "1             1            9                   1      157541          281   \n",
       "2             1           12                   1      157541          281   \n",
       "3             1           17                   1      157541          281   \n",
       "4             1           21                   1      157541          281   \n",
       "\n",
       "        created_at_ts  publisher_id  words_count  anciennete  \n",
       "0 2017-09-30 19:41:58             0          280     9.17919  \n",
       "1 2017-09-30 19:41:58             0          280     9.17919  \n",
       "2 2017-09-30 19:41:58             0          280     9.17919  \n",
       "3 2017-09-30 19:41:58             0          280     9.17919  \n",
       "4 2017-09-30 19:41:58             0          280     9.17919  "
      ]
     },
     "execution_count": 16,
     "metadata": {},
     "output_type": "execute_result"
    }
   ],
   "source": [
    "old_interaction.head()"
   ]
  },
  {
   "cell_type": "code",
   "execution_count": 17,
   "id": "9a52a92a",
   "metadata": {},
   "outputs": [
    {
     "data": {
      "text/html": [
       "<div>\n",
       "<style scoped>\n",
       "    .dataframe tbody tr th:only-of-type {\n",
       "        vertical-align: middle;\n",
       "    }\n",
       "\n",
       "    .dataframe tbody tr th {\n",
       "        vertical-align: top;\n",
       "    }\n",
       "\n",
       "    .dataframe thead th {\n",
       "        text-align: right;\n",
       "    }\n",
       "</style>\n",
       "<table border=\"1\" class=\"dataframe\">\n",
       "  <thead>\n",
       "    <tr style=\"text-align: right;\">\n",
       "      <th></th>\n",
       "      <th>click_article_id_inter</th>\n",
       "      <th>interaction</th>\n",
       "    </tr>\n",
       "  </thead>\n",
       "  <tbody>\n",
       "    <tr>\n",
       "      <th>0</th>\n",
       "      <td>3</td>\n",
       "      <td>1</td>\n",
       "    </tr>\n",
       "    <tr>\n",
       "      <th>1</th>\n",
       "      <td>27</td>\n",
       "      <td>1</td>\n",
       "    </tr>\n",
       "    <tr>\n",
       "      <th>2</th>\n",
       "      <td>81</td>\n",
       "      <td>2</td>\n",
       "    </tr>\n",
       "    <tr>\n",
       "      <th>3</th>\n",
       "      <td>84</td>\n",
       "      <td>1</td>\n",
       "    </tr>\n",
       "    <tr>\n",
       "      <th>4</th>\n",
       "      <td>115</td>\n",
       "      <td>1</td>\n",
       "    </tr>\n",
       "  </tbody>\n",
       "</table>\n",
       "</div>"
      ],
      "text/plain": [
       "   click_article_id_inter  interaction\n",
       "0                       3            1\n",
       "1                      27            1\n",
       "2                      81            2\n",
       "3                      84            1\n",
       "4                     115            1"
      ]
     },
     "execution_count": 17,
     "metadata": {},
     "output_type": "execute_result"
    }
   ],
   "source": [
    "rating = old_interaction[['click_article_id', 'user_id']].groupby([\"click_article_id\"],as_index=False).agg(\"count\")\n",
    "rating.rename(columns={\"user_id\":\"interaction\"},inplace=True)\n",
    "rating.rename(columns={\"click_article_id\":\"click_article_id_inter\"},inplace=True)\n",
    "rating.head()"
   ]
  },
  {
   "cell_type": "code",
   "execution_count": 18,
   "id": "099f733e",
   "metadata": {},
   "outputs": [],
   "source": [
    "final_df_train = old_interaction.merge(rating,how=\"left\",left_on=[\"article_id\"],right_on=[\"click_article_id_inter\"])\n",
    "# on retire les columns inutile\n",
    "final_df_train.drop([\"session_id\",\"click_article_id\",\"session_start\",\"session_size\",\"click_environment\",\n",
    "                     \"click_deviceGroup\",\"click_os\",\"click_country\",\"click_region\",\n",
    "                     \"click_referrer_type\",\"click_article_id_inter\",\"publisher_id\"],axis=1,inplace=True)\n",
    "# on remplace les NA par des 0 pour les futurs traitement\n",
    "final_df_train[\"interaction\"] = final_df_train[\"interaction\"].fillna(0)"
   ]
  },
  {
   "cell_type": "code",
   "execution_count": 19,
   "id": "7ae4d7fb",
   "metadata": {},
   "outputs": [
    {
     "data": {
      "text/html": [
       "<div>\n",
       "<style scoped>\n",
       "    .dataframe tbody tr th:only-of-type {\n",
       "        vertical-align: middle;\n",
       "    }\n",
       "\n",
       "    .dataframe tbody tr th {\n",
       "        vertical-align: top;\n",
       "    }\n",
       "\n",
       "    .dataframe thead th {\n",
       "        text-align: right;\n",
       "    }\n",
       "</style>\n",
       "<table border=\"1\" class=\"dataframe\">\n",
       "  <thead>\n",
       "    <tr style=\"text-align: right;\">\n",
       "      <th></th>\n",
       "      <th>user_id</th>\n",
       "      <th>click_timestamp</th>\n",
       "      <th>article_id</th>\n",
       "      <th>category_id</th>\n",
       "      <th>created_at_ts</th>\n",
       "      <th>words_count</th>\n",
       "      <th>anciennete</th>\n",
       "      <th>interaction</th>\n",
       "    </tr>\n",
       "  </thead>\n",
       "  <tbody>\n",
       "    <tr>\n",
       "      <th>0</th>\n",
       "      <td>0</td>\n",
       "      <td>2017-10-01 03:00:28.020</td>\n",
       "      <td>157541</td>\n",
       "      <td>281</td>\n",
       "      <td>2017-09-30 19:41:58</td>\n",
       "      <td>280</td>\n",
       "      <td>9.17919</td>\n",
       "      <td>365</td>\n",
       "    </tr>\n",
       "    <tr>\n",
       "      <th>1</th>\n",
       "      <td>20</td>\n",
       "      <td>2017-10-01 05:42:28.634</td>\n",
       "      <td>157541</td>\n",
       "      <td>281</td>\n",
       "      <td>2017-09-30 19:41:58</td>\n",
       "      <td>280</td>\n",
       "      <td>9.17919</td>\n",
       "      <td>365</td>\n",
       "    </tr>\n",
       "    <tr>\n",
       "      <th>2</th>\n",
       "      <td>44</td>\n",
       "      <td>2017-10-01 11:27:58.141</td>\n",
       "      <td>157541</td>\n",
       "      <td>281</td>\n",
       "      <td>2017-09-30 19:41:58</td>\n",
       "      <td>280</td>\n",
       "      <td>9.17919</td>\n",
       "      <td>365</td>\n",
       "    </tr>\n",
       "    <tr>\n",
       "      <th>3</th>\n",
       "      <td>45</td>\n",
       "      <td>2017-10-01 03:08:29.970</td>\n",
       "      <td>157541</td>\n",
       "      <td>281</td>\n",
       "      <td>2017-09-30 19:41:58</td>\n",
       "      <td>280</td>\n",
       "      <td>9.17919</td>\n",
       "      <td>365</td>\n",
       "    </tr>\n",
       "    <tr>\n",
       "      <th>4</th>\n",
       "      <td>76</td>\n",
       "      <td>2017-10-01 03:33:43.469</td>\n",
       "      <td>157541</td>\n",
       "      <td>281</td>\n",
       "      <td>2017-09-30 19:41:58</td>\n",
       "      <td>280</td>\n",
       "      <td>9.17919</td>\n",
       "      <td>365</td>\n",
       "    </tr>\n",
       "  </tbody>\n",
       "</table>\n",
       "</div>"
      ],
      "text/plain": [
       "  user_id         click_timestamp  article_id  category_id  \\\n",
       "0       0 2017-10-01 03:00:28.020      157541          281   \n",
       "1      20 2017-10-01 05:42:28.634      157541          281   \n",
       "2      44 2017-10-01 11:27:58.141      157541          281   \n",
       "3      45 2017-10-01 03:08:29.970      157541          281   \n",
       "4      76 2017-10-01 03:33:43.469      157541          281   \n",
       "\n",
       "        created_at_ts  words_count  anciennete  interaction  \n",
       "0 2017-09-30 19:41:58          280     9.17919          365  \n",
       "1 2017-09-30 19:41:58          280     9.17919          365  \n",
       "2 2017-09-30 19:41:58          280     9.17919          365  \n",
       "3 2017-09-30 19:41:58          280     9.17919          365  \n",
       "4 2017-09-30 19:41:58          280     9.17919          365  "
      ]
     },
     "execution_count": 19,
     "metadata": {},
     "output_type": "execute_result"
    }
   ],
   "source": [
    "final_df_train.head()"
   ]
  },
  {
   "cell_type": "markdown",
   "id": "34bbeee3",
   "metadata": {},
   "source": [
    "### Sauvegarde du jeu de données "
   ]
  },
  {
   "cell_type": "code",
   "execution_count": 16,
   "id": "599714cd",
   "metadata": {},
   "outputs": [],
   "source": [
    "final_df_train.to_csv(\"./data/final_df_train.csv\")"
   ]
  },
  {
   "cell_type": "code",
   "execution_count": 17,
   "id": "4f42a259",
   "metadata": {},
   "outputs": [
    {
     "data": {
      "image/png": "[encoded data removed]",
      "text/plain": [
       "<Figure size 1440x576 with 1 Axes>"
      ]
     },
     "metadata": {},
     "output_type": "display_data"
    }
   ],
   "source": [
    "plt.figure(figsize=(20,8))\n",
    "final_df_train[\"interaction\"].hist(bins=100)\n",
    "plt.show()"
   ]
  },
  {
   "cell_type": "code",
   "execution_count": 18,
   "id": "9927eb60",
   "metadata": {},
   "outputs": [
    {
     "data": {
      "image/png": "[encoded data removed]",
      "text/plain": [
       "<Figure size 1440x576 with 1 Axes>"
      ]
     },
     "metadata": {},
     "output_type": "display_data"
    }
   ],
   "source": [
    "plt.figure(figsize=(20,8))\n",
    "plt.xlim((0,1000))\n",
    "max_bins = int(final_df_train[\"anciennete\"].max() + final_df_train[\"anciennete\"].min())\n",
    "final_df_train[\"anciennete\"].hist(bins=max_bins)\n",
    "plt.yscale(\"log\")\n",
    "plt.show()"
   ]
  },
  {
   "cell_type": "markdown",
   "id": "859bb862",
   "metadata": {},
   "source": [
    "On vois sur ce graphique que les articles sont généralement lu dans les jours qui suivent leur publication."
   ]
  },
  {
   "cell_type": "code",
   "execution_count": 19,
   "id": "42188212",
   "metadata": {},
   "outputs": [],
   "source": [
    "df_interact_cat = final_df_train.groupby([\"user_id\",\"category_id\"]).size().to_frame().reset_index().rename(columns={0:\"interaction_cat\"})"
   ]
  },
  {
   "cell_type": "code",
   "execution_count": 20,
   "id": "f3c0f953",
   "metadata": {},
   "outputs": [
    {
     "name": "stdout",
     "output_type": "stream",
     "text": [
      "Dimensionnalité :  (1184450, 3)\n"
     ]
    },
    {
     "data": {
      "text/html": [
       "<div>\n",
       "<style scoped>\n",
       "    .dataframe tbody tr th:only-of-type {\n",
       "        vertical-align: middle;\n",
       "    }\n",
       "\n",
       "    .dataframe tbody tr th {\n",
       "        vertical-align: top;\n",
       "    }\n",
       "\n",
       "    .dataframe thead th {\n",
       "        text-align: right;\n",
       "    }\n",
       "</style>\n",
       "<table border=\"1\" class=\"dataframe\">\n",
       "  <thead>\n",
       "    <tr style=\"text-align: right;\">\n",
       "      <th></th>\n",
       "      <th>user_id</th>\n",
       "      <th>category_id</th>\n",
       "      <th>interaction_cat</th>\n",
       "    </tr>\n",
       "  </thead>\n",
       "  <tbody>\n",
       "    <tr>\n",
       "      <th>0</th>\n",
       "      <td>0</td>\n",
       "      <td>136</td>\n",
       "      <td>1</td>\n",
       "    </tr>\n",
       "    <tr>\n",
       "      <th>1</th>\n",
       "      <td>0</td>\n",
       "      <td>186</td>\n",
       "      <td>2</td>\n",
       "    </tr>\n",
       "    <tr>\n",
       "      <th>2</th>\n",
       "      <td>0</td>\n",
       "      <td>209</td>\n",
       "      <td>1</td>\n",
       "    </tr>\n",
       "    <tr>\n",
       "      <th>3</th>\n",
       "      <td>0</td>\n",
       "      <td>281</td>\n",
       "      <td>2</td>\n",
       "    </tr>\n",
       "    <tr>\n",
       "      <th>4</th>\n",
       "      <td>0</td>\n",
       "      <td>375</td>\n",
       "      <td>1</td>\n",
       "    </tr>\n",
       "  </tbody>\n",
       "</table>\n",
       "</div>"
      ],
      "text/plain": [
       "   user_id  category_id  interaction_cat\n",
       "0        0          136                1\n",
       "1        0          186                2\n",
       "2        0          209                1\n",
       "3        0          281                2\n",
       "4        0          375                1"
      ]
     },
     "execution_count": 20,
     "metadata": {},
     "output_type": "execute_result"
    }
   ],
   "source": [
    "print(\"Dimensionnalité : \",df_interact_cat.shape)\n",
    "df_interact_cat.head()"
   ]
  },
  {
   "cell_type": "code",
   "execution_count": 21,
   "id": "2864011c",
   "metadata": {},
   "outputs": [],
   "source": [
    "df_interact_article = final_df_train.groupby([\"user_id\",\"article_id\"]).size().to_frame().reset_index().rename(columns={0:\"interaction_article\"})"
   ]
  },
  {
   "cell_type": "code",
   "execution_count": 22,
   "id": "74ca452d",
   "metadata": {},
   "outputs": [
    {
     "name": "stdout",
     "output_type": "stream",
     "text": [
      "Dimensionnalité :  (1741394, 3)\n"
     ]
    },
    {
     "data": {
      "text/html": [
       "<div>\n",
       "<style scoped>\n",
       "    .dataframe tbody tr th:only-of-type {\n",
       "        vertical-align: middle;\n",
       "    }\n",
       "\n",
       "    .dataframe tbody tr th {\n",
       "        vertical-align: top;\n",
       "    }\n",
       "\n",
       "    .dataframe thead th {\n",
       "        text-align: right;\n",
       "    }\n",
       "</style>\n",
       "<table border=\"1\" class=\"dataframe\">\n",
       "  <thead>\n",
       "    <tr style=\"text-align: right;\">\n",
       "      <th></th>\n",
       "      <th>user_id</th>\n",
       "      <th>article_id</th>\n",
       "      <th>interaction_article</th>\n",
       "    </tr>\n",
       "  </thead>\n",
       "  <tbody>\n",
       "    <tr>\n",
       "      <th>0</th>\n",
       "      <td>0</td>\n",
       "      <td>68866</td>\n",
       "      <td>1</td>\n",
       "    </tr>\n",
       "    <tr>\n",
       "      <th>1</th>\n",
       "      <td>0</td>\n",
       "      <td>87205</td>\n",
       "      <td>1</td>\n",
       "    </tr>\n",
       "    <tr>\n",
       "      <th>2</th>\n",
       "      <td>0</td>\n",
       "      <td>87224</td>\n",
       "      <td>1</td>\n",
       "    </tr>\n",
       "    <tr>\n",
       "      <th>3</th>\n",
       "      <td>0</td>\n",
       "      <td>96755</td>\n",
       "      <td>1</td>\n",
       "    </tr>\n",
       "    <tr>\n",
       "      <th>4</th>\n",
       "      <td>0</td>\n",
       "      <td>157541</td>\n",
       "      <td>1</td>\n",
       "    </tr>\n",
       "  </tbody>\n",
       "</table>\n",
       "</div>"
      ],
      "text/plain": [
       "   user_id  article_id  interaction_article\n",
       "0        0       68866                    1\n",
       "1        0       87205                    1\n",
       "2        0       87224                    1\n",
       "3        0       96755                    1\n",
       "4        0      157541                    1"
      ]
     },
     "execution_count": 22,
     "metadata": {},
     "output_type": "execute_result"
    }
   ],
   "source": [
    "print(\"Dimensionnalité : \",df_interact_article.shape)\n",
    "df_interact_article.head()"
   ]
  },
  {
   "cell_type": "markdown",
   "id": "70512ecb",
   "metadata": {},
   "source": [
    "## Modélisaiton"
   ]
  },
  {
   "cell_type": "code",
   "execution_count": 23,
   "id": "7c9cbb7a",
   "metadata": {},
   "outputs": [],
   "source": [
    "import scipy.sparse as sparse\n",
    "import implicit"
   ]
  },
  {
   "cell_type": "code",
   "execution_count": 63,
   "id": "4d81f700",
   "metadata": {},
   "outputs": [],
   "source": [
    "sparse_user_item = sparse.csr_matrix((df_interact_article['interaction_article'].astype(float),\n",
    "                                     (df_interact_article['user_id'], df_interact_article['article_id'])))"
   ]
  },
  {
   "cell_type": "code",
   "execution_count": 64,
   "id": "b1e64518",
   "metadata": {},
   "outputs": [],
   "source": [
    "model = implicit.als.AlternatingLeastSquares(factors=100,iterations=200,regularization=0.1)"
   ]
  },
  {
   "cell_type": "code",
   "execution_count": 65,
   "id": "97d6c728",
   "metadata": {},
   "outputs": [
    {
     "data": {
      "application/vnd.jupyter.widget-view+json": {
       "model_id": "e1b25d1dea3241f389a250b9210bfb59",
       "version_major": 2,
       "version_minor": 0
      },
      "text/plain": [
       "  0%|          | 0/200 [00:00<?, ?it/s]"
      ]
     },
     "metadata": {},
     "output_type": "display_data"
    }
   ],
   "source": [
    "model.fit(sparse_user_item*1)"
   ]
  },
  {
   "cell_type": "code",
   "execution_count": 27,
   "id": "22d03298",
   "metadata": {},
   "outputs": [],
   "source": [
    "userid = 10\n",
    "recommendations = model.recommend(userid, sparse_user_item[userid],N=5)"
   ]
  },
  {
   "cell_type": "code",
   "execution_count": 28,
   "id": "c53719c9",
   "metadata": {},
   "outputs": [
    {
     "name": "stdout",
     "output_type": "stream",
     "text": [
      "Voici la liste des article recommandé : [206934, 70646, 338350, 285342, 202493]\n"
     ]
    }
   ],
   "source": [
    "print(\"Voici la liste des article recommandé :\",recommendations[0].tolist())"
   ]
  },
  {
   "cell_type": "code",
   "execution_count": 45,
   "id": "3d1215b7",
   "metadata": {},
   "outputs": [],
   "source": [
    "model_cf = ContentCollaboratifFiltering(\"./data/final_df_train.csv\")"
   ]
  },
  {
   "cell_type": "code",
   "execution_count": 30,
   "id": "d9952f30",
   "metadata": {},
   "outputs": [
    {
     "data": {
      "application/vnd.jupyter.widget-view+json": {
       "model_id": "6705dac2f1bb4697a2f3734a657aa050",
       "version_major": 2,
       "version_minor": 0
      },
      "text/plain": [
       "  0%|          | 0/200 [00:00<?, ?it/s]"
      ]
     },
     "metadata": {},
     "output_type": "display_data"
    }
   ],
   "source": [
    "model_cf.train_(factors=100,iterations=200,regularization=0.1,alpha=10)"
   ]
  },
  {
   "cell_type": "code",
   "execution_count": 31,
   "id": "49c5c063",
   "metadata": {},
   "outputs": [
    {
     "data": {
      "text/plain": [
       "[168623, 235230, 206934, 205846, 209294]"
      ]
     },
     "execution_count": 31,
     "metadata": {},
     "output_type": "execute_result"
    }
   ],
   "source": [
    "model_cf.recommend_(userid)"
   ]
  },
  {
   "cell_type": "code",
   "execution_count": 35,
   "id": "a72e6715",
   "metadata": {},
   "outputs": [],
   "source": [
    "import itertools as it\n",
    "\n",
    "evaluate_recommendation_system = EvaluateRS(path_user_interaction_directory=\"./data/clicks/\",\n",
    "                                            metadata_path=\"./data/articles_metadata.csv\")\n",
    "\n",
    "def find_tuning(model,params : dict,list_user : list):\n",
    "    all_keys = sorted(params)\n",
    "    combinations = list(it.product(*(params[k] for k in all_keys)))\n",
    "    test_comb = 0\n",
    "    best_score = 0\n",
    "    best_params = {}\n",
    "    nb_comb = len(combinations)\n",
    "    for param in combinations:\n",
    "        if 'factors' in all_keys:\n",
    "            factors = param[all_keys.index('factors')]\n",
    "        else:\n",
    "            factors = 100\n",
    "        \n",
    "        if 'iterations' in all_keys:\n",
    "            iterations = param[all_keys.index('iterations')]\n",
    "        else:\n",
    "            iterations = 200\n",
    "        \n",
    "        if 'regularization' in all_keys:\n",
    "            regularization = param[all_keys.index('regularization')]\n",
    "        else:\n",
    "            regularization = 0.1\n",
    "        \n",
    "        if 'alpha' in all_keys:\n",
    "            alpha = param[all_keys.index('alpha')]\n",
    "        else: \n",
    "            alpha = 1\n",
    "        \n",
    "        model.train_(factors=factors,iterations=iterations,regularization=regularization,alpha=alpha,show_progress=False)\n",
    "        map_test = model.recommend_list_user_(list_user)\n",
    "        evaluate_recommendation_system.evaluate_(map_test,list_user)\n",
    "        \n",
    "        score = evaluate_recommendation_system.count_cat\n",
    "        \n",
    "        if score > best_score:\n",
    "            best_score = score\n",
    "            best_params = params = {\n",
    "                \"factors\":factors,\n",
    "                \"iterations\":iterations,\n",
    "                \"regularization\":regularization,\n",
    "                \"alpha\":alpha\n",
    "            }\n",
    "        if test_comb % (nb_comb//10) == 0:\n",
    "            print(round((test_comb/nb_comb)*100),\"%\")\n",
    "        test_comb+=1\n",
    "    return best_score, best_params"
   ]
  },
  {
   "cell_type": "code",
   "execution_count": 36,
   "id": "d6530d70",
   "metadata": {},
   "outputs": [],
   "source": [
    "params = {\n",
    "    \"factors\":[15,50,100,200],\n",
    "    \"iterations\":[20,50,100,200,400],\n",
    "    \"regularization\":[0.001,0.01,0.1,1],\n",
    "    \"alpha\":[1,5,10,20,40]\n",
    "}\n",
    "\n",
    "size_sample = 100\n",
    "list_user = [i for i in range(size_sample)]"
   ]
  },
  {
   "cell_type": "code",
   "execution_count": 37,
   "id": "b5da51eb",
   "metadata": {},
   "outputs": [
    {
     "name": "stdout",
     "output_type": "stream",
     "text": [
      "0 %\n",
      "10 %\n",
      "20 %\n",
      "30 %\n",
      "40 %\n",
      "50 %\n",
      "60 %\n",
      "70 %\n",
      "80 %\n",
      "90 %\n"
     ]
    }
   ],
   "source": [
    "best_score, best_params = find_tuning(model_cf,params,list_user)"
   ]
  },
  {
   "cell_type": "code",
   "execution_count": 38,
   "id": "2ac9c80a",
   "metadata": {},
   "outputs": [
    {
     "name": "stdout",
     "output_type": "stream",
     "text": [
      "Le nombre maximal de catégorie simmilaire identifier est de : 637\n",
      "Les meilleurs paramètres sont : {'factors': 200, 'iterations': 100, 'regularization': 0.01, 'alpha': 10}\n"
     ]
    }
   ],
   "source": [
    "print(\"Le nombre maximal de catégorie simmilaire identifier est de :\", best_score)\n",
    "print(\"Les meilleurs paramètres sont :\", best_params)"
   ]
  },
  {
   "cell_type": "code",
   "execution_count": 19,
   "id": "1cc5e3d8",
   "metadata": {},
   "outputs": [],
   "source": [
    "best_params = {'factors': 200, 'iterations': 100, 'regularization': 0.01, 'alpha': 10}"
   ]
  },
  {
   "cell_type": "markdown",
   "id": "8a49c6f6",
   "metadata": {},
   "source": [
    "## Evaluation\n",
    "\n",
    "Pour l'évaluation on regardera plusieur métriques, notamment si les catégorie entre les article recommandé et réellement lu sont simillaire ainsi que l'ancienneté des articles recommandés (on regardera également si des article recommandé on était lu par l'utilisateur)."
   ]
  },
  {
   "cell_type": "code",
   "execution_count": 77,
   "id": "0295a2e7",
   "metadata": {},
   "outputs": [],
   "source": [
    "size_sample = 1000\n",
    "list_user_test = [i for i in range(size_sample)]"
   ]
  },
  {
   "cell_type": "code",
   "execution_count": 78,
   "id": "abe9a9d5",
   "metadata": {},
   "outputs": [
    {
     "name": "stdout",
     "output_type": "stream",
     "text": [
      "CPU times: user 966 ms, sys: 81.2 ms, total: 1.05 s\n",
      "Wall time: 1.3 s\n"
     ]
    }
   ],
   "source": [
    "%%time\n",
    "map_test_cf = model_cf.recommend_list_user_(list_user_test)"
   ]
  },
  {
   "cell_type": "code",
   "execution_count": 35,
   "id": "4ac03551",
   "metadata": {},
   "outputs": [
    {
     "name": "stdout",
     "output_type": "stream",
     "text": [
      "CPU times: user 49min 20s, sys: 18min 56s, total: 1h 8min 17s\n",
      "Wall time: 1h 8min 28s\n"
     ]
    }
   ],
   "source": [
    "# %%time\n",
    "# map_test_based = model_based.recommend_list_user_(list_user_test)"
   ]
  },
  {
   "cell_type": "code",
   "execution_count": 62,
   "id": "c62d58b8",
   "metadata": {},
   "outputs": [],
   "source": [
    "# import pickle\n",
    "# src_file = './data/map_test_based.pickle'\n",
    "# with open(src_file, 'wb') as f:\n",
    "#     pickle.dump(map_test_based, f)"
   ]
  },
  {
   "cell_type": "code",
   "execution_count": 34,
   "id": "e4ac502b",
   "metadata": {},
   "outputs": [],
   "source": [
    "import pickle\n",
    "src_file = './data/map_test_based.pickle'\n",
    "\n",
    "map_test_file = open(src_file,\"rb\")\n",
    "map_test_based = pickle.load(map_test_file)\n",
    "map_test_file.close()"
   ]
  },
  {
   "cell_type": "code",
   "execution_count": 79,
   "id": "3a8beb53",
   "metadata": {},
   "outputs": [
    {
     "name": "stdout",
     "output_type": "stream",
     "text": [
      "CPU times: user 55.7 s, sys: 31.6 s, total: 1min 27s\n",
      "Wall time: 1min 29s\n"
     ]
    }
   ],
   "source": [
    "%%time\n",
    "evaluate_recommendation_system = EvaluateRS(path_user_interaction_directory=\"./data/clicks/\",\n",
    "                                            metadata_path=\"./data/articles_metadata.csv\")"
   ]
  },
  {
   "cell_type": "code",
   "execution_count": 80,
   "id": "fc9286c1",
   "metadata": {},
   "outputs": [
    {
     "name": "stdout",
     "output_type": "stream",
     "text": [
      "L'ancienneté des articles proposés sont d'environ 14.079 jours.\n",
      "Il y a un total de 3771 catégories simillaire soit 36.298%.\n",
      "Et le nombre d'article recommandé qui à était vraiment lu est de 6 \n"
     ]
    }
   ],
   "source": [
    "evaluate_recommendation_system.evaluate_(map_test_cf,list_user_test)\n",
    "evaluate_recommendation_system.display_result()"
   ]
  },
  {
   "cell_type": "code",
   "execution_count": 37,
   "id": "201e6256",
   "metadata": {
    "scrolled": true
   },
   "outputs": [
    {
     "name": "stdout",
     "output_type": "stream",
     "text": [
      "L'ancienneté des articles proposés sont d'environ 462.447 jours.\n",
      "Il y a un total de 18 catégories simillaire soit 0.173%.\n",
      "Et le nombre d'article recommandé qui à était vraiment lu est de 0 \n"
     ]
    }
   ],
   "source": [
    "evaluate_recommendation_system.evaluate_(map_test_based,list_user_test)\n",
    "evaluate_recommendation_system.display_result()"
   ]
  },
  {
   "cell_type": "markdown",
   "id": "1b118d0e",
   "metadata": {},
   "source": [
    "# Echantillion prédiction pour alleger l'azure function\n",
    "\n",
    "\n",
    "> On entraine notre modélisation final sur l'ensemble du jeu de données"
   ]
  },
  {
   "cell_type": "code",
   "execution_count": 11,
   "id": "aa6d03c3",
   "metadata": {},
   "outputs": [],
   "source": [
    "df = interaction_df.merge(metadata_df,left_on=\"click_article_id\",right_on=\"article_id\")"
   ]
  },
  {
   "cell_type": "code",
   "execution_count": 12,
   "id": "4495a930",
   "metadata": {},
   "outputs": [],
   "source": [
    "# On reinitialise l'anciennete avec la dernière valeur que l'on gardera\n",
    "metadata_df[\"anciennete\"] = abs(metadata_df['created_at_ts'] - pd.to_datetime(\"2017-10-17 00:00:00\"))\n",
    "metadata_df['anciennete'] = metadata_df['anciennete'] / np.timedelta64(1, 'D')\n",
    "df_new = interaction_df.merge(metadata_df,left_on=\"click_article_id\",right_on=\"article_id\")\n",
    "df_new.drop(df_new[df_new[\"created_at_ts\"] > df_new[\"click_timestamp\"]].index,axis=0,inplace=True)"
   ]
  },
  {
   "cell_type": "code",
   "execution_count": 14,
   "id": "5bc15477",
   "metadata": {},
   "outputs": [],
   "source": [
    "new_interaction = df_new[df_new[\"click_timestamp\"] <= pd.to_datetime(\"2017-10-17 00:00:00\")].copy()"
   ]
  },
  {
   "cell_type": "code",
   "execution_count": 15,
   "id": "91f48de9",
   "metadata": {},
   "outputs": [],
   "source": [
    "rating = new_interaction[['click_article_id', 'user_id']].groupby([\"click_article_id\"],as_index=False).agg(\"count\")\n",
    "rating.rename(columns={\"user_id\":\"interaction\"},inplace=True)\n",
    "rating.rename(columns={\"click_article_id\":\"click_article_id_inter\"},inplace=True)\n",
    "rating.head()\n",
    "\n",
    "final_df = new_interaction.merge(rating,how=\"left\",left_on=[\"article_id\"],right_on=[\"click_article_id_inter\"])\n",
    "# on retire les columns inutile\n",
    "final_df.drop([\"session_id\",\"click_article_id\",\"session_start\",\"session_size\",\"click_environment\",\n",
    "                     \"click_deviceGroup\",\"click_os\",\"click_country\",\"click_region\",\n",
    "                     \"click_referrer_type\",\"click_article_id_inter\",\"publisher_id\"],axis=1,inplace=True)\n",
    "# on remplace les NA par des 0 pour les futurs traitement\n",
    "final_df[\"interaction\"] = final_df[\"interaction\"].fillna(0)"
   ]
  },
  {
   "cell_type": "markdown",
   "id": "14542401",
   "metadata": {},
   "source": [
    "## Sauvegarde du jeu de données final"
   ]
  },
  {
   "cell_type": "code",
   "execution_count": 24,
   "id": "05cd3249",
   "metadata": {},
   "outputs": [],
   "source": [
    "final_df.to_csv(\"./data/final_df.csv\")"
   ]
  },
  {
   "cell_type": "markdown",
   "id": "15f397c8",
   "metadata": {},
   "source": [
    "## Entrainement et recommandation"
   ]
  },
  {
   "cell_type": "code",
   "execution_count": 25,
   "id": "f973a075",
   "metadata": {},
   "outputs": [
    {
     "name": "stdout",
     "output_type": "stream",
     "text": [
      "CPU times: user 3.1 s, sys: 281 ms, total: 3.38 s\n",
      "Wall time: 4.73 s\n"
     ]
    }
   ],
   "source": [
    "%%time\n",
    "model_cf = ContentCollaboratifFiltering(\"./data/final_df.csv\")"
   ]
  },
  {
   "cell_type": "code",
   "execution_count": 26,
   "id": "e612c8ac",
   "metadata": {},
   "outputs": [
    {
     "name": "stdout",
     "output_type": "stream",
     "text": [
      "CPU times: user 17.9 s, sys: 0 ns, total: 17.9 s\n",
      "Wall time: 18 s\n"
     ]
    }
   ],
   "source": [
    "%%time\n",
    "model_cf.train_(factors=best_params[\"factors\"],\n",
    "                iterations=best_params[\"iterations\"],\n",
    "                regularization=best_params[\"regularization\"],\n",
    "                alpha=best_params[\"alpha\"],show_progress=False)"
   ]
  },
  {
   "cell_type": "code",
   "execution_count": 27,
   "id": "e9e58a68",
   "metadata": {},
   "outputs": [],
   "source": [
    "size_sample = 10000\n",
    "list_user = [i for i in range(size_sample)]"
   ]
  },
  {
   "cell_type": "code",
   "execution_count": 28,
   "id": "83615f0a",
   "metadata": {},
   "outputs": [
    {
     "name": "stdout",
     "output_type": "stream",
     "text": [
      "CPU times: user 8.85 s, sys: 1.48 s, total: 10.3 s\n",
      "Wall time: 12.8 s\n"
     ]
    }
   ],
   "source": [
    "%%time\n",
    "map_cf = model_cf.recommend_list_user_(list_user)"
   ]
  },
  {
   "cell_type": "code",
   "execution_count": 29,
   "id": "c9690f3c",
   "metadata": {},
   "outputs": [],
   "source": [
    "import pickle\n",
    "src_file = './data/recommandation_cf.pickle'\n",
    "with open(src_file, 'wb') as f:\n",
    "    pickle.dump(map_cf, f)"
   ]
  }
 ],
 "metadata": {
  "kernelspec": {
   "display_name": "Python 3",
   "language": "python",
   "name": "python3"
  },
  "language_info": {
   "codemirror_mode": {
    "name": "ipython",
    "version": 3
   },
   "file_extension": ".py",
   "mimetype": "text/x-python",
   "name": "python",
   "nbconvert_exporter": "python",
   "pygments_lexer": "ipython3",
   "version": "3.6.9"
  }
 },
 "nbformat": 4,
 "nbformat_minor": 5
}
